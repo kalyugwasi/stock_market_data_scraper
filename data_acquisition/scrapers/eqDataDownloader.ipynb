{
 "cells": [
  {
   "cell_type": "code",
   "execution_count": null,
   "id": "717438db-52b1-48f7-9fe1-6ae31cb837e5",
   "metadata": {},
   "outputs": [],
   "source": [
    "import urllib.parse\n",
    "import pandas as pd\n",
    "import pytz,os\n",
    "import requests\n",
    "import json ,requests\n",
    "from  datetime import datetime,timedelta,time\n",
    "TIME_ZONE = pytz.timezone('Asia/Kolkata')"
   ]
  },
  {
   "cell_type": "code",
   "execution_count": null,
   "id": "3640a74c-1330-4e35-a742-a1f6f4157308",
   "metadata": {},
   "outputs": [],
   "source": [
    "fileUrl ='https://assets.upstox.com/market-quote/instruments/exchange/complete.csv.gz'\n",
    "symboldf = pd.read_csv(fileUrl)\n",
    "symboldf['expiry'] = pd.to_datetime(symboldf['expiry']).apply(lambda x: x.date())   \n",
    "symboldf = symboldf[symboldf.exchange == 'NSE_EQ']\n",
    "eqCsv = pd.read_csv('EQUITY_L.csv')\n",
    "isinList = 'NSE_EQ|' + eqCsv[' ISIN NUMBER']\n",
    "symboldf = symboldf[symboldf.instrument_key.isin(isinList)] \n",
    "symboldf"
   ]
  },
  {
   "cell_type": "code",
   "execution_count": null,
   "id": "5b6e8253-bbaa-4f06-9062-e3c20e86945a",
   "metadata": {},
   "outputs": [],
   "source": [
    "#fromDate = (datetime.now(TIME_ZONE)  - timedelta(days=10000)) .strftime(\"%Y-%m-%d\")\n",
    "#fromDate"
   ]
  },
  {
   "cell_type": "code",
   "execution_count": null,
   "id": "7084498a-f1ff-4494-ac58-e1ca891cea3e",
   "metadata": {},
   "outputs": [],
   "source": [
    "def getHistoricalData(symInfo):\n",
    "    res = None\n",
    "    try:\n",
    "        parseInstrument = urllib.parse.quote(symInfo.instrument_key)\n",
    "        fromDate = (datetime.now(TIME_ZONE)  - timedelta(days=10000)) .strftime(\"%Y-%m-%d\")\n",
    "        todate = datetime.now(TIME_ZONE).strftime(\"%Y-%m-%d\")\n",
    "        url = f'https://api.upstox.com/v2/historical-candle/{parseInstrument}/day/{todate}/{fromDate}' \n",
    "        #print(url)\n",
    "       \n",
    "        res = requests.get(url,headers={'accept': 'application/json',},params={},timeout=5.0)\n",
    "        candleRes = res.json()\n",
    "        \n",
    "        if 'data' in candleRes and 'candles' in candleRes['data'] and  candleRes['data']['candles']:\n",
    "            candleData = pd.DataFrame(candleRes['data']['candles'])\n",
    "            candleData.columns = ['date','open','high','low', 'close','vol','oi']\n",
    "            candleData['date'] = pd.to_datetime(candleData['date']).dt.tz_convert('Asia/Kolkata')\n",
    "            candleData['symbol'] = symInfo.tradingsymbol\n",
    "            print(symInfo.tradingsymbol, len(candleData))\n",
    "            return candleData\n",
    "        else:\n",
    "            print('No data',symInfo.instrument_key, candleRes)\n",
    "    except :\n",
    "        print(f'Error in data fetch for {symInfo.instrument_key} {res} {e}')"
   ]
  },
  {
   "cell_type": "code",
   "execution_count": null,
   "id": "f296529c-a031-41a3-8df7-3f511ab81940",
   "metadata": {},
   "outputs": [],
   "source": [
    "#getHistoricalData(symboldf.iloc[1])"
   ]
  },
  {
   "cell_type": "code",
   "execution_count": null,
   "id": "02fea643-c253-460c-8a27-68e729b7f9c1",
   "metadata": {},
   "outputs": [],
   "source": [
    "candledfList = []\n",
    "for i in symboldf.index[:2]:\n",
    "    res = getHistoricalData(symboldf.loc[i])\n",
    "    if res is not None: candledfList.append(res) \n",
    "\n"
   ]
  },
  {
   "cell_type": "code",
   "execution_count": null,
   "id": "7f33d839-dfef-476e-9d24-a307f6c16ec1",
   "metadata": {},
   "outputs": [],
   "source": [
    "finalDataDf = pd.concat(candledfList,ignore_index= True)\n",
    "finalDataDf"
   ]
  },
  {
   "cell_type": "code",
   "execution_count": null,
   "id": "02765973-ea44-4b37-ba58-57c434f9609f",
   "metadata": {},
   "outputs": [],
   "source": [
    "isCsv = True\n",
    "for symData in candledfList:\n",
    "    try:\n",
    "        filename = symData.iloc[0]['symbol']\n",
    "        if isCsv : \n",
    "            filename = f'{filename}.csv'\n",
    "            symData.to_csv(filename,index=False)\n",
    "        else:\n",
    "            filename = f'{filename}.parquet' \n",
    "            symData.to_parquet(filename , engine='pyarrow')\n",
    "    except Exception as e:\n",
    "        print(f'Error {e}')"
   ]
  },
  {
   "cell_type": "code",
   "execution_count": null,
   "id": "f4a5515b-5144-4072-87b3-3f6ed9370e6e",
   "metadata": {},
   "outputs": [],
   "source": [
    "pd.read_parquet('C:\\\\Users\\\\eqEOD\\\\20MICRONS.parquet')"
   ]
  }
 ],
 "metadata": {
  "kernelspec": {
   "display_name": "Python 3",
   "language": "python",
   "name": "python3"
  },
  "language_info": {
   "codemirror_mode": {
    "name": "ipython",
    "version": 3
   },
   "file_extension": ".py",
   "mimetype": "text/x-python",
   "name": "python",
   "nbconvert_exporter": "python",
   "pygments_lexer": "ipython3",
   "version": "3.11.4"
  }
 },
 "nbformat": 4,
 "nbformat_minor": 5
}
